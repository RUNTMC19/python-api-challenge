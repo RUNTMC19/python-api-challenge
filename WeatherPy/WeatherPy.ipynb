{
 "cells": [
  {
   "cell_type": "markdown",
   "metadata": {},
   "source": [
    "# WeatherPy\n",
    "----\n",
    "\n",
    "#### Note\n",
    "* Instructions have been included for each segment. You do not have to follow them exactly, but they are included to help you think through the steps."
   ]
  },
  {
   "cell_type": "code",
   "execution_count": 1,
   "metadata": {
    "scrolled": true
   },
   "outputs": [],
   "source": [
    "# Dependencies and Setup\n",
    "import matplotlib.pyplot as plt\n",
    "import pandas as pd\n",
    "import numpy as np\n",
    "import requests\n",
    "import time\n",
    "from scipy.stats import linregress\n",
    "\n",
    "# Import API key\n",
    "from config import weather_api_key\n",
    "\n",
    "# Incorporated citipy to determine city based on latitude and longitude\n",
    "from citipy import citipy\n",
    "\n",
    "# Output File (CSV)\n",
    "output_data_file = \"cities.csv\"\n",
    "\n",
    "# Range of latitudes and longitudes\n",
    "lat_range = (-90, 90)\n",
    "lng_range = (-180, 180)"
   ]
  },
  {
   "cell_type": "markdown",
   "metadata": {},
   "source": [
    "## Generate Cities List"
   ]
  },
  {
   "cell_type": "code",
   "execution_count": 2,
   "metadata": {},
   "outputs": [
    {
     "data": {
      "text/plain": [
       "612"
      ]
     },
     "execution_count": 2,
     "metadata": {},
     "output_type": "execute_result"
    }
   ],
   "source": [
    "# List for holding lat_lngs and cities\n",
    "lat_lngs = []\n",
    "cities = []\n",
    "\n",
    "# Create a set of random lat and lng combinations\n",
    "lats = np.random.uniform(lat_range[0], lat_range[1], size=1500)\n",
    "lngs = np.random.uniform(lng_range[0], lng_range[1], size=1500)\n",
    "lat_lngs = zip(lats, lngs)\n",
    "\n",
    "# Identify nearest city for each lat, lng combination\n",
    "for lat_lng in lat_lngs:\n",
    "    city = citipy.nearest_city(lat_lng[0], lat_lng[1]).city_name\n",
    "    \n",
    "    # If the city is unique, then add it to a our cities list\n",
    "    if city not in cities:\n",
    "        cities.append(city)\n",
    "\n",
    "# Print the city count to confirm sufficient count\n",
    "len(cities)"
   ]
  },
  {
   "cell_type": "markdown",
   "metadata": {},
   "source": [
    "### Perform API Calls\n",
    "* Perform a weather check on each city using a series of successive API calls.\n",
    "* Include a print log of each city as it'sbeing processed (with the city number and city name).\n"
   ]
  },
  {
   "cell_type": "code",
   "execution_count": 3,
   "metadata": {
    "scrolled": true
   },
   "outputs": [
    {
     "name": "stdout",
     "output_type": "stream",
     "text": [
      "Found city: victoria\n",
      "Found city: bereda\n",
      "Found city: brae\n",
      "Found city: pundaguitan\n",
      "Found city: grindavik\n",
      "Found city: uige\n",
      "Found city: baturaja\n",
      "Found city: kamenskoye\n",
      "Could not find: kamenskoye\n",
      "Found city: high level\n",
      "Found city: qaanaaq\n",
      "Found city: srednekolymsk\n",
      "Found city: punta arenas\n",
      "Found city: hambantota\n",
      "Found city: tuktoyaktuk\n",
      "Found city: riverton\n",
      "Found city: vaini\n",
      "Found city: busselton\n",
      "Found city: ushuaia\n",
      "Found city: hermanus\n",
      "Found city: tiksi\n",
      "Found city: bani\n",
      "Found city: medina del campo\n",
      "Found city: saint-philippe\n",
      "Found city: mataura\n",
      "Found city: hobart\n",
      "Found city: albany\n",
      "Found city: rikitea\n",
      "Found city: aqtobe\n",
      "Found city: bredasdorp\n",
      "Found city: lebu\n",
      "Found city: port elizabeth\n",
      "Found city: monroe\n",
      "Found city: bluff\n",
      "Found city: kapaa\n",
      "Found city: praya\n",
      "Found city: ocean city\n",
      "Found city: saldanha\n",
      "Found city: souillac\n",
      "Found city: port alfred\n",
      "Found city: atuona\n",
      "Found city: warqla\n",
      "Could not find: warqla\n",
      "Found city: bom jesus\n",
      "Found city: solnechnyy\n",
      "Found city: belmonte\n",
      "Found city: jamestown\n",
      "Found city: altay\n",
      "Found city: murray bridge\n",
      "Found city: olinda\n",
      "Found city: antalaha\n",
      "Found city: tuy hoa\n",
      "Found city: georgetown\n",
      "Found city: nishihara\n",
      "Found city: carnarvon\n",
      "Found city: hilo\n",
      "Found city: yellowknife\n",
      "Found city: east london\n",
      "Found city: saint anthony\n",
      "Found city: bengkulu\n",
      "Found city: mahebourg\n",
      "Found city: san antonio\n",
      "Found city: barrow\n",
      "Found city: gisborne\n",
      "Found city: lalganj\n",
      "Found city: pangai\n",
      "Found city: kavieng\n",
      "Found city: sistranda\n",
      "Found city: pevek\n",
      "Found city: hovd\n",
      "Found city: lokosovo\n",
      "Found city: ulaangom\n",
      "Found city: mayo\n",
      "Found city: dikson\n",
      "Found city: avarua\n",
      "Found city: ulladulla\n",
      "Found city: pochutla\n",
      "Found city: vardo\n",
      "Found city: chokurdakh\n",
      "Found city: hit\n",
      "Found city: vanimo\n",
      "Found city: mbandaka\n",
      "Found city: noumea\n",
      "Found city: takoradi\n",
      "Found city: tocopilla\n",
      "Found city: leningradskiy\n",
      "Found city: tuatapere\n",
      "Found city: palia kalan\n",
      "Found city: ambodifototra\n",
      "Could not find: ambodifototra\n",
      "Found city: naliya\n",
      "Found city: sao miguel do tapuio\n",
      "Found city: ballina\n",
      "Found city: skowhegan\n",
      "Found city: kovur\n",
      "Found city: vibo valentia\n",
      "Found city: cayenne\n",
      "Found city: ibra\n",
      "Found city: nuuk\n",
      "Found city: kiunga\n",
      "Found city: muros\n",
      "Found city: meulaboh\n",
      "Found city: upernavik\n",
      "Found city: zhigansk\n",
      "Found city: lagoa\n",
      "Found city: buala\n",
      "Found city: asau\n",
      "Found city: wenden\n",
      "Found city: kodiak\n",
      "Found city: saskylakh\n",
      "Found city: tasiilaq\n",
      "Found city: namibe\n",
      "Found city: mlowo\n",
      "Found city: illoqqortoormiut\n",
      "Could not find: illoqqortoormiut\n",
      "Found city: loukhi\n",
      "Found city: hithadhoo\n",
      "Found city: touros\n",
      "Found city: mukhen\n",
      "Found city: nanning\n",
      "Found city: grand river south east\n",
      "Could not find: grand river south east\n",
      "Found city: faanui\n",
      "Found city: butaritari\n",
      "Found city: sao joao da barra\n",
      "Found city: umzimvubu\n",
      "Could not find: umzimvubu\n",
      "Found city: ribeira grande\n",
      "Found city: drayton valley\n",
      "Found city: zolotkovo\n",
      "Found city: luangwa\n",
      "Found city: castro\n",
      "Found city: katangli\n",
      "Found city: lavrentiya\n",
      "Found city: suntar\n",
      "Found city: hervey bay\n",
      "Found city: davila\n",
      "Found city: mys shmidta\n",
      "Could not find: mys shmidta\n",
      "Found city: thompson\n",
      "Found city: bellavista\n",
      "Found city: salalah\n",
      "Found city: lata\n",
      "Found city: henties bay\n",
      "Found city: oussouye\n",
      "Found city: yeppoon\n",
      "Found city: necochea\n",
      "Found city: umkomaas\n",
      "Found city: bontang\n",
      "Found city: manaure\n",
      "Found city: sadri\n",
      "Found city: qinhuangdao\n",
      "Found city: quatre cocos\n",
      "Found city: geraldton\n",
      "Found city: guarapari\n",
      "Found city: lompoc\n",
      "Found city: san francisco\n",
      "Found city: husavik\n",
      "Found city: amderma\n",
      "Could not find: amderma\n",
      "Found city: rawson\n",
      "Found city: pauini\n",
      "Found city: mrirt\n",
      "Could not find: mrirt\n",
      "Found city: norman wells\n",
      "Found city: ayagoz\n",
      "Found city: marzuq\n",
      "Found city: manthani\n",
      "Found city: karamea\n",
      "Could not find: karamea\n",
      "Found city: zadonsk\n",
      "Found city: ponta do sol\n",
      "Found city: labuhan\n",
      "Found city: new norfolk\n",
      "Found city: flin flon\n",
      "Found city: grenada\n",
      "Found city: eloszallas\n",
      "Found city: lorengau\n",
      "Found city: satun\n",
      "Found city: janakkala\n",
      "Found city: shwebo\n",
      "Found city: sao felix do xingu\n",
      "Found city: faya\n",
      "Found city: tongzi\n",
      "Found city: anlu\n",
      "Found city: roma\n",
      "Found city: cape town\n",
      "Found city: sinjar\n",
      "Found city: colares\n",
      "Found city: ilulissat\n",
      "Found city: khatanga\n",
      "Found city: taolanaro\n",
      "Could not find: taolanaro\n",
      "Found city: sembakung\n",
      "Found city: abu dhabi\n",
      "Found city: zhanakorgan\n",
      "Found city: chuy\n",
      "Found city: umm lajj\n",
      "Found city: morondava\n",
      "Found city: escanaba\n",
      "Found city: campbell river\n",
      "Found city: kikugawa\n",
      "Found city: goksun\n",
      "Found city: havre-saint-pierre\n",
      "Found city: bandundu\n",
      "Found city: qandala\n",
      "Found city: clyde river\n",
      "Found city: la ronge\n",
      "Found city: port lincoln\n",
      "Found city: omboue\n",
      "Found city: fort nelson\n",
      "Found city: arraial do cabo\n",
      "Found city: fatick\n",
      "Found city: moose factory\n",
      "Found city: nouadhibou\n",
      "Found city: swift current\n",
      "Found city: halmstad\n",
      "Found city: coquimbo\n",
      "Found city: iquitos\n",
      "Found city: karlskrona\n",
      "Found city: jizan\n",
      "Found city: riberalta\n",
      "Found city: vaitupu\n",
      "Could not find: vaitupu\n",
      "Found city: sentyabrskiy\n",
      "Could not find: sentyabrskiy\n",
      "Found city: beringovskiy\n",
      "Found city: nikolskoye\n",
      "Found city: chernyshevskiy\n",
      "Found city: cherskiy\n",
      "Found city: manjacaze\n",
      "Found city: carutapera\n",
      "Found city: maloshuyka\n",
      "Could not find: maloshuyka\n",
      "Found city: farkhor\n",
      "Found city: kirakira\n",
      "Found city: samusu\n",
      "Could not find: samusu\n",
      "Found city: zavitinsk\n",
      "Found city: merauke\n",
      "Found city: abonnema\n",
      "Found city: saint george\n",
      "Found city: kaitangata\n",
      "Found city: barentsburg\n",
      "Could not find: barentsburg\n",
      "Found city: araouane\n",
      "Found city: concarneau\n",
      "Found city: chekhov\n",
      "Found city: pacific grove\n",
      "Found city: seddon\n",
      "Found city: beloha\n",
      "Found city: nguiu\n",
      "Could not find: nguiu\n",
      "Found city: aquiraz\n",
      "Found city: bubaque\n",
      "Found city: pandan\n",
      "Found city: los llanos de aridane\n",
      "Found city: mount isa\n",
      "Found city: nova londrina\n",
      "Found city: lewistown\n",
      "Found city: pangnirtung\n",
      "Found city: havelock\n",
      "Found city: skibotn\n",
      "Found city: cockburn town\n",
      "Found city: oskarshamn\n",
      "Found city: punakha\n",
      "Found city: la roche-sur-yon\n",
      "Found city: fort morgan\n",
      "Found city: athabasca\n",
      "Found city: mokrousovo\n",
      "Found city: dali\n",
      "Found city: buraydah\n",
      "Found city: yulara\n",
      "Found city: esperance\n",
      "Found city: mercedes\n",
      "Found city: narsaq\n",
      "Found city: nelson bay\n",
      "Found city: ormara\n",
      "Found city: alugan\n",
      "Found city: korla\n",
      "Found city: mackay\n",
      "Found city: rebrikha\n",
      "Found city: bathsheba\n",
      "Found city: kisangani\n",
      "Found city: oshawa\n",
      "Found city: sapao\n",
      "Could not find: sapao\n",
      "Found city: provideniya\n",
      "Found city: longyearbyen\n",
      "Found city: mar del plata\n",
      "Found city: cochrane\n",
      "Found city: kasongo-lunda\n",
      "Found city: ustye\n",
      "Found city: cockburn harbour\n",
      "Could not find: cockburn harbour\n",
      "Found city: codrington\n",
      "Found city: severo-kurilsk\n",
      "Found city: samarai\n",
      "Found city: reconquista\n",
      "Found city: vestmannaeyjar\n",
      "Found city: walla walla\n",
      "Found city: rio grande\n",
      "Found city: comodoro rivadavia\n",
      "Found city: alpena\n",
      "Found city: kununurra\n",
      "Found city: dauriya\n",
      "Found city: makakilo city\n",
      "Found city: coihaique\n",
      "Found city: severo-yeniseyskiy\n",
      "Found city: belushya guba\n",
      "Could not find: belushya guba\n",
      "Found city: evensk\n",
      "Found city: najran\n",
      "Found city: attawapiskat\n",
      "Could not find: attawapiskat\n",
      "Found city: torbay\n",
      "Found city: karangasem\n",
      "Found city: bilma\n",
      "Found city: dunedin\n",
      "Found city: jibuti\n",
      "Found city: puerto ayora\n",
      "Found city: hasaki\n",
      "Found city: nawalapitiya\n",
      "Found city: cam ranh\n",
      "Found city: alta floresta\n",
      "Found city: panaba\n",
      "Found city: atar\n",
      "Found city: alexandria\n",
      "Found city: biloela\n",
      "Found city: maun\n",
      "Found city: sur\n",
      "Found city: piacabucu\n",
      "Found city: waverly\n",
      "Found city: gushikawa\n",
      "Found city: huilong\n",
      "Found city: alihe\n",
      "Found city: eureka\n",
      "Found city: bambous virieux\n",
      "Found city: galgani\n",
      "Could not find: galgani\n",
      "Found city: ambon\n",
      "Found city: brockville\n",
      "Found city: saint-joseph\n",
      "Found city: grand gaube\n",
      "Found city: puerto escondido\n",
      "Found city: lagos\n",
      "Found city: acarau\n",
      "Found city: bandarbeyla\n",
      "Found city: luderitz\n",
      "Found city: kahului\n",
      "Found city: lerwick\n",
      "Found city: padang\n",
      "Found city: guerrero negro\n",
      "Found city: sabalgarh\n",
      "Found city: ayacucho\n",
      "Found city: mangai\n",
      "Found city: tokur\n",
      "Found city: avera\n",
      "Found city: stavern\n",
      "Found city: llanes\n",
      "Found city: abay\n",
      "Found city: camacha\n",
      "Found city: nanortalik\n",
      "Found city: udachnyy\n",
      "Found city: ambulu\n",
      "Found city: caravelas\n",
      "Found city: sakakah\n",
      "Found city: inirida\n",
      "Found city: polyarnyy\n",
      "Found city: kedrovyy\n",
      "Found city: koumac\n",
      "Found city: coahuayana\n",
      "Found city: ajdabiya\n",
      "Found city: tonantins\n",
      "Found city: tsevie\n",
      "Found city: half moon bay\n"
     ]
    },
    {
     "name": "stdout",
     "output_type": "stream",
     "text": [
      "Found city: la palma\n",
      "Found city: sobolevo\n",
      "Found city: nizhneyansk\n",
      "Could not find: nizhneyansk\n",
      "Found city: meyungs\n",
      "Could not find: meyungs\n",
      "Found city: gamboma\n",
      "Found city: shimoda\n",
      "Found city: jumla\n",
      "Found city: otjiwarongo\n",
      "Found city: alice springs\n",
      "Found city: ahuimanu\n",
      "Found city: prince rupert\n",
      "Found city: oyama\n",
      "Found city: guajara-mirim\n",
      "Could not find: guajara-mirim\n",
      "Found city: catamarca\n",
      "Found city: sitka\n",
      "Found city: leninskoye\n",
      "Found city: alofi\n",
      "Found city: port hawkesbury\n",
      "Found city: pathein\n",
      "Found city: hamilton\n",
      "Found city: chapleau\n",
      "Found city: jalu\n",
      "Found city: beira\n",
      "Found city: batagay-alyta\n",
      "Found city: saint-augustin\n",
      "Found city: ola\n",
      "Found city: neryungri\n",
      "Found city: okha\n",
      "Found city: botou\n",
      "Found city: mao\n",
      "Found city: harbour breton\n",
      "Found city: marsh harbour\n",
      "Found city: kant\n",
      "Found city: chicama\n",
      "Found city: norsup\n",
      "Found city: fuyang\n",
      "Found city: tilichiki\n",
      "Found city: paucartambo\n",
      "Could not find: paucartambo\n",
      "Found city: kavaratti\n",
      "Found city: coos bay\n",
      "Found city: honiara\n",
      "Found city: bojnurd\n",
      "Found city: imbituba\n",
      "Found city: aden\n",
      "Found city: bambanglipuro\n",
      "Found city: francisco beltrao\n",
      "Found city: bethel\n",
      "Found city: sagua la grande\n",
      "Found city: nieuw nickerie\n",
      "Found city: santa marta de tormes\n",
      "Found city: gat\n",
      "Found city: namatanai\n",
      "Found city: madingou\n",
      "Found city: portland\n",
      "Found city: tsihombe\n",
      "Could not find: tsihombe\n",
      "Found city: morbach\n",
      "Found city: nalut\n",
      "Found city: sedro-woolley\n",
      "Found city: waingapu\n",
      "Found city: zandvoort\n",
      "Found city: vuktyl\n",
      "Found city: port hedland\n",
      "Found city: kisesa\n",
      "Found city: flinders\n",
      "Found city: vilhena\n",
      "Found city: fortuna\n",
      "Found city: soyo\n",
      "Found city: cascais\n",
      "Found city: maraa\n",
      "Found city: chilliwack\n",
      "Found city: manoel urbano\n",
      "Found city: lafiagi\n",
      "Found city: harper\n",
      "Found city: nyurba\n",
      "Found city: inverell\n",
      "Found city: wrzesnia\n",
      "Found city: humberto de campos\n",
      "Found city: ambilobe\n",
      "Found city: sulangan\n",
      "Found city: airai\n",
      "Found city: humaita\n",
      "Found city: nador\n",
      "Found city: sorong\n",
      "Found city: mocambique\n",
      "Could not find: mocambique\n",
      "Found city: misratah\n",
      "Found city: okhotsk\n",
      "Found city: gerash\n",
      "Found city: hibbing\n",
      "Found city: stornoway\n",
      "Found city: dawson creek\n",
      "Found city: san patricio\n",
      "Found city: hendijan\n",
      "Could not find: hendijan\n",
      "Found city: marcona\n",
      "Could not find: marcona\n",
      "Found city: kuala kedah\n",
      "Found city: borovichi\n",
      "Found city: albert\n",
      "Found city: paamiut\n",
      "Found city: rio de janeiro\n",
      "Found city: turinskaya sloboda\n",
      "Found city: irbil\n",
      "Found city: ucluelet\n",
      "Found city: myitkyina\n",
      "Found city: kannangad\n",
      "Found city: bolungarvik\n",
      "Could not find: bolungarvik\n",
      "Found city: at-bashi\n",
      "Found city: maceio\n",
      "Found city: vostok\n",
      "Found city: amapa\n",
      "Found city: yeniseysk\n",
      "Found city: mangrol\n",
      "Found city: blonduos\n",
      "Could not find: blonduos\n",
      "Found city: pechora\n",
      "Found city: kurilsk\n",
      "Found city: oum hadjer\n",
      "Found city: nongan\n",
      "Found city: sambava\n",
      "Found city: jardim\n",
      "Found city: vila franca do campo\n",
      "Found city: klaksvik\n",
      "Found city: ostrovnoy\n",
      "Found city: naze\n",
      "Found city: ust-kulom\n",
      "Found city: nome\n",
      "Found city: satitoa\n",
      "Could not find: satitoa\n",
      "Found city: ulaanbaatar\n",
      "Found city: juneau\n",
      "Found city: tiznit\n",
      "Found city: yumen\n",
      "Found city: zhezkazgan\n",
      "Found city: pomezeu\n",
      "Found city: maymanak\n",
      "Could not find: maymanak\n",
      "Found city: george town\n",
      "Found city: constitucion\n",
      "Found city: along\n",
      "Found city: cabedelo\n",
      "Found city: berlevag\n",
      "Found city: atbasar\n",
      "Found city: katsuura\n",
      "Found city: houma\n",
      "Found city: svetlogorsk\n",
      "Found city: kibondo\n",
      "Found city: sierra vista\n",
      "Found city: cazaje\n",
      "Could not find: cazaje\n",
      "Found city: longlac\n",
      "Could not find: longlac\n",
      "Found city: barranco de loba\n",
      "Found city: porosozero\n",
      "Found city: rio gallegos\n",
      "Found city: deulgaon raja\n",
      "Found city: cabo san lucas\n",
      "Found city: biltine\n",
      "Found city: damietta\n",
      "Found city: marsa matruh\n",
      "Found city: ruatoria\n",
      "Could not find: ruatoria\n",
      "Found city: isangel\n",
      "Found city: kumluca\n",
      "Found city: anqing\n",
      "Found city: kutum\n",
      "Found city: ordynskoye\n",
      "Found city: magan\n",
      "Found city: oriximina\n",
      "Found city: parvatsar\n",
      "Found city: nara\n",
      "Found city: segezha\n",
      "Found city: denpasar\n",
      "Found city: mentakab\n",
      "Found city: college\n",
      "Found city: gizo\n",
      "Found city: manta\n",
      "Found city: vila\n",
      "Found city: bilibino\n",
      "Found city: mezen\n",
      "Found city: fairbanks\n",
      "Found city: marathon\n",
      "Found city: freeport\n",
      "Found city: batasan\n",
      "Found city: tambacounda\n",
      "Found city: balkanabat\n",
      "Found city: yerbogachen\n",
      "Found city: laguna\n",
      "Found city: camalu\n",
      "Found city: noyabrsk\n",
      "Found city: iqaluit\n",
      "Found city: dekoa\n",
      "Could not find: dekoa\n",
      "Found city: garm\n",
      "Could not find: garm\n",
      "Found city: nizwa\n",
      "Found city: embu\n",
      "Found city: salihorsk\n",
      "Found city: maarianhamina\n",
      "Found city: arlit\n",
      "Found city: sri aman\n",
      "Found city: tawang\n",
      "Found city: floresta\n",
      "Found city: duz\n",
      "Could not find: duz\n",
      "Found city: daru\n",
      "Found city: mehamn\n",
      "Found city: businga\n",
      "Found city: vila velha\n",
      "Found city: maghama\n",
      "Could not find: maghama\n",
      "Found city: teknaf\n",
      "Found city: yuzhno-yeniseyskiy\n",
      "Could not find: yuzhno-yeniseyskiy\n",
      "Found city: ridgecrest\n",
      "Found city: olafsvik\n",
      "Found city: krasnaya yaruga\n",
      "Found city: cadillac\n",
      "Found city: mont-dore\n",
      "Found city: burkhala\n",
      "Could not find: burkhala\n",
      "Found city: palabuhanratu\n",
      "Could not find: palabuhanratu\n",
      "Found city: fenyi\n",
      "Found city: tiarei\n",
      "Found city: denizli\n",
      "Found city: loubomo\n",
      "Found city: mount gambier\n",
      "Found city: tezu\n",
      "Found city: aitape\n",
      "Found city: ramsar\n",
      "Found city: zabkowice slaskie\n",
      "Found city: kalmunai\n",
      "Found city: kollam\n",
      "Found city: kaluga\n",
      "Found city: ilebo\n",
      "Found city: hami\n",
      "Found city: shache\n",
      "Found city: honningsvag\n",
      "Found city: moanda\n",
      "Found city: santa cruz\n",
      "Found city: tecoanapa\n",
      "Found city: chapais\n",
      "Found city: mackenzie\n",
      "Found city: xichang\n",
      "Found city: hailar\n",
      "Found city: tatarskaya kargala\n",
      "Found city: bonthe\n",
      "Found city: ayan\n",
      "Found city: tumannyy\n",
      "Could not find: tumannyy\n",
      "Found city: adelaide\n",
      "Found city: wattegama\n",
      "Found city: teseney\n",
      "Found city: samarinda\n",
      "Found city: severnoye\n",
      "Found city: komsomolskiy\n",
      "Found city: socorro\n",
      "Found city: smolenka\n",
      "Found city: arecibo\n",
      "Found city: picui\n",
      "Found city: yimnon\n",
      "Found city: beitbridge\n",
      "Found city: porbandar\n",
      "Found city: bargal\n",
      "Could not find: bargal\n",
      "Found city: louisbourg\n",
      "Could not find: louisbourg\n",
      "Found city: matara\n",
      "Found city: tubuala\n",
      "Found city: innisfail\n",
      "Found city: ancud\n",
      "Found city: port blair\n",
      "Found city: chato\n",
      "Found city: birao\n",
      "Found city: wahran\n",
      "Could not find: wahran\n",
      "Found city: hazorasp\n"
     ]
    }
   ],
   "source": [
    "# columns for lat, lon, temp_max, humidity, clouds, wind speed, country, date\n",
    "\n",
    "lat = []\n",
    "lon = []\n",
    "temperatures = []\n",
    "wind_speed = []\n",
    "clouds = []\n",
    "humidity = []\n",
    "country = []\n",
    "date = []\n",
    "\n",
    "cities_found = []\n",
    "\n",
    "for city in cities:\n",
    "    \n",
    "    url = \"http://api.openweathermap.org/data/2.5/weather?\"\n",
    "    \n",
    "    query_url = url + \"appid=\" + weather_api_key + \"&q=\" + city + \"&units=imperial\"\n",
    "\n",
    "    # Get weather data\n",
    "    \n",
    "    \n",
    "    try:\n",
    "        print(\"Found city: \" + city)\n",
    "        weather_response = requests.get(query_url)\n",
    "        weather_json = weather_response.json()\n",
    "        \n",
    "        \n",
    "        lat.append(weather_json[\"coord\"][\"lat\"])\n",
    "        lon.append(weather_json[\"coord\"][\"lon\"])\n",
    "        temperatures.append(weather_json[\"main\"][\"temp\"])\n",
    "        wind_speed.append(weather_json[\"wind\"][\"speed\"])\n",
    "        clouds.append(weather_json[\"clouds\"][\"all\"])\n",
    "        humidity.append(weather_json[\"main\"][\"humidity\"])\n",
    "        country.append(weather_json[\"sys\"][\"country\"])\n",
    "        date.append(weather_json[\"dt\"])\n",
    "          \n",
    "        # Do this at the end after appending the other lists           \n",
    "        cities_found.append(city)\n",
    "\n",
    "    except:\n",
    "        \n",
    "        print(\"Could not find: \" + city)\n",
    "    "
   ]
  },
  {
   "cell_type": "markdown",
   "metadata": {},
   "source": [
    "### Convert Raw Data to DataFrame\n",
    "* Export the city data into a .csv.\n",
    "* Display the DataFrame"
   ]
  },
  {
   "cell_type": "code",
   "execution_count": 4,
   "metadata": {},
   "outputs": [
    {
     "data": {
      "text/html": [
       "<div>\n",
       "<style scoped>\n",
       "    .dataframe tbody tr th:only-of-type {\n",
       "        vertical-align: middle;\n",
       "    }\n",
       "\n",
       "    .dataframe tbody tr th {\n",
       "        vertical-align: top;\n",
       "    }\n",
       "\n",
       "    .dataframe thead th {\n",
       "        text-align: right;\n",
       "    }\n",
       "</style>\n",
       "<table border=\"1\" class=\"dataframe\">\n",
       "  <thead>\n",
       "    <tr style=\"text-align: right;\">\n",
       "      <th></th>\n",
       "      <th>City</th>\n",
       "      <th>Latitude</th>\n",
       "      <th>Longitude</th>\n",
       "      <th>Temperature</th>\n",
       "      <th>Humidity</th>\n",
       "      <th>Cloudiness</th>\n",
       "      <th>Wind Speed</th>\n",
       "      <th>Country</th>\n",
       "      <th>Date</th>\n",
       "    </tr>\n",
       "  </thead>\n",
       "  <tbody>\n",
       "    <tr>\n",
       "      <th>0</th>\n",
       "      <td>victoria</td>\n",
       "      <td>22.2855</td>\n",
       "      <td>114.1577</td>\n",
       "      <td>81.07</td>\n",
       "      <td>90</td>\n",
       "      <td>67</td>\n",
       "      <td>7.00</td>\n",
       "      <td>HK</td>\n",
       "      <td>1634144316</td>\n",
       "    </tr>\n",
       "    <tr>\n",
       "      <th>1</th>\n",
       "      <td>bereda</td>\n",
       "      <td>43.2686</td>\n",
       "      <td>-7.5406</td>\n",
       "      <td>65.88</td>\n",
       "      <td>72</td>\n",
       "      <td>1</td>\n",
       "      <td>4.63</td>\n",
       "      <td>ES</td>\n",
       "      <td>1634144452</td>\n",
       "    </tr>\n",
       "    <tr>\n",
       "      <th>2</th>\n",
       "      <td>brae</td>\n",
       "      <td>60.3964</td>\n",
       "      <td>-1.3530</td>\n",
       "      <td>53.51</td>\n",
       "      <td>85</td>\n",
       "      <td>100</td>\n",
       "      <td>23.26</td>\n",
       "      <td>GB</td>\n",
       "      <td>1634144452</td>\n",
       "    </tr>\n",
       "    <tr>\n",
       "      <th>3</th>\n",
       "      <td>pundaguitan</td>\n",
       "      <td>6.3711</td>\n",
       "      <td>126.1689</td>\n",
       "      <td>83.80</td>\n",
       "      <td>76</td>\n",
       "      <td>100</td>\n",
       "      <td>13.44</td>\n",
       "      <td>PH</td>\n",
       "      <td>1634144453</td>\n",
       "    </tr>\n",
       "    <tr>\n",
       "      <th>4</th>\n",
       "      <td>grindavik</td>\n",
       "      <td>63.8424</td>\n",
       "      <td>-22.4338</td>\n",
       "      <td>41.47</td>\n",
       "      <td>75</td>\n",
       "      <td>75</td>\n",
       "      <td>19.57</td>\n",
       "      <td>IS</td>\n",
       "      <td>1634144453</td>\n",
       "    </tr>\n",
       "    <tr>\n",
       "      <th>...</th>\n",
       "      <td>...</td>\n",
       "      <td>...</td>\n",
       "      <td>...</td>\n",
       "      <td>...</td>\n",
       "      <td>...</td>\n",
       "      <td>...</td>\n",
       "      <td>...</td>\n",
       "      <td>...</td>\n",
       "      <td>...</td>\n",
       "    </tr>\n",
       "    <tr>\n",
       "      <th>559</th>\n",
       "      <td>ancud</td>\n",
       "      <td>-41.8697</td>\n",
       "      <td>-73.8203</td>\n",
       "      <td>51.33</td>\n",
       "      <td>92</td>\n",
       "      <td>100</td>\n",
       "      <td>23.64</td>\n",
       "      <td>CL</td>\n",
       "      <td>1634144664</td>\n",
       "    </tr>\n",
       "    <tr>\n",
       "      <th>560</th>\n",
       "      <td>port blair</td>\n",
       "      <td>11.6667</td>\n",
       "      <td>92.7500</td>\n",
       "      <td>81.09</td>\n",
       "      <td>86</td>\n",
       "      <td>100</td>\n",
       "      <td>13.42</td>\n",
       "      <td>IN</td>\n",
       "      <td>1634144665</td>\n",
       "    </tr>\n",
       "    <tr>\n",
       "      <th>561</th>\n",
       "      <td>chato</td>\n",
       "      <td>-2.6378</td>\n",
       "      <td>31.7669</td>\n",
       "      <td>72.79</td>\n",
       "      <td>67</td>\n",
       "      <td>14</td>\n",
       "      <td>5.55</td>\n",
       "      <td>TZ</td>\n",
       "      <td>1634144665</td>\n",
       "    </tr>\n",
       "    <tr>\n",
       "      <th>562</th>\n",
       "      <td>birao</td>\n",
       "      <td>10.2849</td>\n",
       "      <td>22.7882</td>\n",
       "      <td>75.51</td>\n",
       "      <td>79</td>\n",
       "      <td>96</td>\n",
       "      <td>3.94</td>\n",
       "      <td>CF</td>\n",
       "      <td>1634144666</td>\n",
       "    </tr>\n",
       "    <tr>\n",
       "      <th>563</th>\n",
       "      <td>hazorasp</td>\n",
       "      <td>41.3194</td>\n",
       "      <td>61.0742</td>\n",
       "      <td>48.04</td>\n",
       "      <td>22</td>\n",
       "      <td>0</td>\n",
       "      <td>10.02</td>\n",
       "      <td>UZ</td>\n",
       "      <td>1634144666</td>\n",
       "    </tr>\n",
       "  </tbody>\n",
       "</table>\n",
       "<p>564 rows × 9 columns</p>\n",
       "</div>"
      ],
      "text/plain": [
       "            City  Latitude  Longitude  Temperature  Humidity  Cloudiness  \\\n",
       "0       victoria   22.2855   114.1577        81.07        90          67   \n",
       "1         bereda   43.2686    -7.5406        65.88        72           1   \n",
       "2           brae   60.3964    -1.3530        53.51        85         100   \n",
       "3    pundaguitan    6.3711   126.1689        83.80        76         100   \n",
       "4      grindavik   63.8424   -22.4338        41.47        75          75   \n",
       "..           ...       ...        ...          ...       ...         ...   \n",
       "559        ancud  -41.8697   -73.8203        51.33        92         100   \n",
       "560   port blair   11.6667    92.7500        81.09        86         100   \n",
       "561        chato   -2.6378    31.7669        72.79        67          14   \n",
       "562        birao   10.2849    22.7882        75.51        79          96   \n",
       "563     hazorasp   41.3194    61.0742        48.04        22           0   \n",
       "\n",
       "     Wind Speed Country        Date  \n",
       "0          7.00      HK  1634144316  \n",
       "1          4.63      ES  1634144452  \n",
       "2         23.26      GB  1634144452  \n",
       "3         13.44      PH  1634144453  \n",
       "4         19.57      IS  1634144453  \n",
       "..          ...     ...         ...  \n",
       "559       23.64      CL  1634144664  \n",
       "560       13.42      IN  1634144665  \n",
       "561        5.55      TZ  1634144665  \n",
       "562        3.94      CF  1634144666  \n",
       "563       10.02      UZ  1634144666  \n",
       "\n",
       "[564 rows x 9 columns]"
      ]
     },
     "execution_count": 4,
     "metadata": {},
     "output_type": "execute_result"
    }
   ],
   "source": [
    "city_weather = {\n",
    "    \"City\": cities_found,\n",
    "    \"Latitude\": lat,\n",
    "    \"Longitude\": lon,\n",
    "    \"Temperature\": temperatures,\n",
    "    \"Humidity\": humidity,\n",
    "    \"Cloudiness\": clouds,\n",
    "    \"Wind Speed\": wind_speed,\n",
    "    \"Country\": country,\n",
    "    \"Date\": date \n",
    "}\n",
    "\n",
    "city_data = pd.DataFrame(city_weather)\n",
    "city_data"
   ]
  },
  {
   "cell_type": "code",
   "execution_count": 31,
   "metadata": {},
   "outputs": [],
   "source": [
    "city_data.to_csv('city_weather_data.csv', encoding='utf-8')"
   ]
  },
  {
   "cell_type": "code",
   "execution_count": 6,
   "metadata": {},
   "outputs": [
    {
     "data": {
      "text/html": [
       "<div>\n",
       "<style scoped>\n",
       "    .dataframe tbody tr th:only-of-type {\n",
       "        vertical-align: middle;\n",
       "    }\n",
       "\n",
       "    .dataframe tbody tr th {\n",
       "        vertical-align: top;\n",
       "    }\n",
       "\n",
       "    .dataframe thead th {\n",
       "        text-align: right;\n",
       "    }\n",
       "</style>\n",
       "<table border=\"1\" class=\"dataframe\">\n",
       "  <thead>\n",
       "    <tr style=\"text-align: right;\">\n",
       "      <th></th>\n",
       "      <th>Latitude</th>\n",
       "      <th>Longitude</th>\n",
       "      <th>Temperature</th>\n",
       "      <th>Humidity</th>\n",
       "      <th>Cloudiness</th>\n",
       "      <th>Wind Speed</th>\n",
       "      <th>Date</th>\n",
       "    </tr>\n",
       "  </thead>\n",
       "  <tbody>\n",
       "    <tr>\n",
       "      <th>count</th>\n",
       "      <td>564.000000</td>\n",
       "      <td>564.000000</td>\n",
       "      <td>564.000000</td>\n",
       "      <td>564.000000</td>\n",
       "      <td>564.000000</td>\n",
       "      <td>564.000000</td>\n",
       "      <td>5.640000e+02</td>\n",
       "    </tr>\n",
       "    <tr>\n",
       "      <th>mean</th>\n",
       "      <td>20.725018</td>\n",
       "      <td>20.386591</td>\n",
       "      <td>63.487305</td>\n",
       "      <td>69.537234</td>\n",
       "      <td>61.257092</td>\n",
       "      <td>7.239699</td>\n",
       "      <td>1.634145e+09</td>\n",
       "    </tr>\n",
       "    <tr>\n",
       "      <th>std</th>\n",
       "      <td>32.444842</td>\n",
       "      <td>89.957994</td>\n",
       "      <td>20.397209</td>\n",
       "      <td>21.392476</td>\n",
       "      <td>37.590760</td>\n",
       "      <td>5.234094</td>\n",
       "      <td>8.767039e+01</td>\n",
       "    </tr>\n",
       "    <tr>\n",
       "      <th>min</th>\n",
       "      <td>-54.800000</td>\n",
       "      <td>-175.200000</td>\n",
       "      <td>-7.740000</td>\n",
       "      <td>7.000000</td>\n",
       "      <td>0.000000</td>\n",
       "      <td>0.000000</td>\n",
       "      <td>1.634144e+09</td>\n",
       "    </tr>\n",
       "    <tr>\n",
       "      <th>25%</th>\n",
       "      <td>-6.217850</td>\n",
       "      <td>-57.126850</td>\n",
       "      <td>46.960000</td>\n",
       "      <td>58.750000</td>\n",
       "      <td>24.000000</td>\n",
       "      <td>3.462500</td>\n",
       "      <td>1.634144e+09</td>\n",
       "    </tr>\n",
       "    <tr>\n",
       "      <th>50%</th>\n",
       "      <td>25.783350</td>\n",
       "      <td>25.770250</td>\n",
       "      <td>69.225000</td>\n",
       "      <td>75.000000</td>\n",
       "      <td>75.000000</td>\n",
       "      <td>5.990000</td>\n",
       "      <td>1.634145e+09</td>\n",
       "    </tr>\n",
       "    <tr>\n",
       "      <th>75%</th>\n",
       "      <td>47.979950</td>\n",
       "      <td>97.250000</td>\n",
       "      <td>78.735000</td>\n",
       "      <td>85.000000</td>\n",
       "      <td>98.000000</td>\n",
       "      <td>9.762500</td>\n",
       "      <td>1.634145e+09</td>\n",
       "    </tr>\n",
       "    <tr>\n",
       "      <th>max</th>\n",
       "      <td>78.218600</td>\n",
       "      <td>179.316700</td>\n",
       "      <td>103.690000</td>\n",
       "      <td>100.000000</td>\n",
       "      <td>100.000000</td>\n",
       "      <td>31.630000</td>\n",
       "      <td>1.634145e+09</td>\n",
       "    </tr>\n",
       "  </tbody>\n",
       "</table>\n",
       "</div>"
      ],
      "text/plain": [
       "         Latitude   Longitude  Temperature    Humidity  Cloudiness  \\\n",
       "count  564.000000  564.000000   564.000000  564.000000  564.000000   \n",
       "mean    20.725018   20.386591    63.487305   69.537234   61.257092   \n",
       "std     32.444842   89.957994    20.397209   21.392476   37.590760   \n",
       "min    -54.800000 -175.200000    -7.740000    7.000000    0.000000   \n",
       "25%     -6.217850  -57.126850    46.960000   58.750000   24.000000   \n",
       "50%     25.783350   25.770250    69.225000   75.000000   75.000000   \n",
       "75%     47.979950   97.250000    78.735000   85.000000   98.000000   \n",
       "max     78.218600  179.316700   103.690000  100.000000  100.000000   \n",
       "\n",
       "       Wind Speed          Date  \n",
       "count  564.000000  5.640000e+02  \n",
       "mean     7.239699  1.634145e+09  \n",
       "std      5.234094  8.767039e+01  \n",
       "min      0.000000  1.634144e+09  \n",
       "25%      3.462500  1.634144e+09  \n",
       "50%      5.990000  1.634145e+09  \n",
       "75%      9.762500  1.634145e+09  \n",
       "max     31.630000  1.634145e+09  "
      ]
     },
     "execution_count": 6,
     "metadata": {},
     "output_type": "execute_result"
    }
   ],
   "source": [
    "city_data.describe()"
   ]
  },
  {
   "cell_type": "markdown",
   "metadata": {},
   "source": [
    "## Plotting the Data\n",
    "* Use proper labeling of the plots using plot titles (including date of analysis) and axes labels.\n",
    "* Save the plotted figures as .pngs."
   ]
  },
  {
   "cell_type": "markdown",
   "metadata": {},
   "source": [
    "## Latitude vs. Temperature Plot"
   ]
  },
  {
   "cell_type": "code",
   "execution_count": 19,
   "metadata": {
    "scrolled": true
   },
   "outputs": [
    {
     "data": {
      "image/png": "[encoded data removed]",
      "text/plain": [
       "<Figure size 432x288 with 1 Axes>"
      ]
     },
     "metadata": {
      "needs_background": "light"
     },
     "output_type": "display_data"
    },
    {
     "data": {
      "text/plain": [
       "<Figure size 1080x1080 with 0 Axes>"
      ]
     },
     "metadata": {},
     "output_type": "display_data"
    }
   ],
   "source": [
    "x_values = city_data['Latitude']\n",
    "y_values = city_data['Temperature']\n",
    "plt.scatter(x_values,y_values,edgecolors= 'k')\n",
    "plt.title('City Latitude vs. Temperature (10/12/21)')\n",
    "plt.xlabel('Latitude')\n",
    "plt.ylabel('Temperature (F)')\n",
    "plt.grid()\n",
    "\n",
    "plt.savefig('lat_vs_temp.png')\n",
    "plt.figure(figsize=(15,15))\n",
    "\n",
    "plt.show()"
   ]
  },
  {
   "cell_type": "code",
   "execution_count": null,
   "metadata": {},
   "outputs": [],
   "source": [
    "# The code analyzes how hot or cold locations would be depending on their latitude coordinates.\n",
    "# Based on the plot, coordinates between -20 to 20 have the highest temperatures as they are closest to the equator.\n",
    "# Higher latitude coordinates point farther north up the globe, which is where the temperatures\n",
    "# tend to be much colder, as proven by the gradual drop off once the latitude number exceeds past 20."
   ]
  },
  {
   "cell_type": "markdown",
   "metadata": {},
   "source": [
    "## Latitude vs. Humidity Plot"
   ]
  },
  {
   "cell_type": "code",
   "execution_count": 20,
   "metadata": {},
   "outputs": [
    {
     "data": {
      "image/png": "[encoded data removed]",
      "text/plain": [
       "<Figure size 432x288 with 1 Axes>"
      ]
     },
     "metadata": {
      "needs_background": "light"
     },
     "output_type": "display_data"
    },
    {
     "data": {
      "text/plain": [
       "<Figure size 1080x1080 with 0 Axes>"
      ]
     },
     "metadata": {},
     "output_type": "display_data"
    }
   ],
   "source": [
    "x_values = city_data['Latitude']\n",
    "y_values = city_data['Humidity']\n",
    "plt.scatter(x_values,y_values,edgecolors= 'k')\n",
    "plt.title('City Latitude vs. Humidity (10/12/21)')\n",
    "plt.xlabel('Latitude')\n",
    "plt.ylabel('Humidity (%)')\n",
    "plt.grid()\n",
    "\n",
    "plt.savefig('lat_vs_humidity.png')\n",
    "plt.figure(figsize=(15,15))\n",
    "\n",
    "plt.show()"
   ]
  },
  {
   "cell_type": "code",
   "execution_count": null,
   "metadata": {},
   "outputs": [],
   "source": [
    "# The code analyzes how humid the locations are in accordance with their latitude.\n",
    "# Based on the plot, there are many outliers, but the positive latitude coordinates have greater clusters than the negative ones."
   ]
  },
  {
   "cell_type": "markdown",
   "metadata": {},
   "source": [
    "## Latitude vs. Cloudiness Plot"
   ]
  },
  {
   "cell_type": "code",
   "execution_count": 21,
   "metadata": {},
   "outputs": [
    {
     "data": {
      "image/png": "[encoded data removed]",
      "text/plain": [
       "<Figure size 432x288 with 1 Axes>"
      ]
     },
     "metadata": {
      "needs_background": "light"
     },
     "output_type": "display_data"
    },
    {
     "data": {
      "text/plain": [
       "<Figure size 1080x1080 with 0 Axes>"
      ]
     },
     "metadata": {},
     "output_type": "display_data"
    }
   ],
   "source": [
    "x_values = city_data['Latitude']\n",
    "y_values = city_data['Cloudiness']\n",
    "plt.scatter(x_values,y_values,edgecolors= 'k')\n",
    "plt.title('City Latitude vs. Cloudiness (10/12/21)')\n",
    "plt.xlabel('Latitude')\n",
    "plt.ylabel('Cloudiness (%)')\n",
    "plt.grid()\n",
    "\n",
    "plt.savefig('lat_vs_cloudiness.png')\n",
    "plt.figure(figsize=(15,15))\n",
    "\n",
    "plt.show()"
   ]
  },
  {
   "cell_type": "code",
   "execution_count": null,
   "metadata": {},
   "outputs": [],
   "source": [
    "# In this plot, the code analyzes latitude coordinates with their levels of cloudiness.\n",
    "# One clear observation shown in the data is that postiive latitude coordinates have \n",
    "# much more instances of maximum cloudiness than the negative ones."
   ]
  },
  {
   "cell_type": "markdown",
   "metadata": {},
   "source": [
    "## Latitude vs. Wind Speed Plot"
   ]
  },
  {
   "cell_type": "code",
   "execution_count": 22,
   "metadata": {},
   "outputs": [
    {
     "data": {
      "image/png": "[encoded data removed]",
      "text/plain": [
       "<Figure size 432x288 with 1 Axes>"
      ]
     },
     "metadata": {
      "needs_background": "light"
     },
     "output_type": "display_data"
    },
    {
     "data": {
      "text/plain": [
       "<Figure size 1080x1080 with 0 Axes>"
      ]
     },
     "metadata": {},
     "output_type": "display_data"
    }
   ],
   "source": [
    "x_values = city_data['Latitude']\n",
    "y_values = city_data['Wind Speed']\n",
    "plt.scatter(x_values,y_values,edgecolors= 'k')\n",
    "plt.title('City Latitude vs. Wind Speed (10/12/21)')\n",
    "plt.xlabel('Latitude')\n",
    "plt.ylabel('Wind Speed (mph)')\n",
    "plt.grid()\n",
    "\n",
    "plt.savefig('lat_vs_wind.png')\n",
    "plt.figure(figsize=(15,15))\n",
    "\n",
    "plt.show()"
   ]
  },
  {
   "cell_type": "code",
   "execution_count": null,
   "metadata": {},
   "outputs": [],
   "source": [
    "# In this plot, the code looks to analyze if there's a relationship between latitude and wind speed.\n",
    "# Based on the plots, wind speeds are the highest for coordinates with the lowest negatives and highest positives.\n",
    "# The positive latitude coordinates, in particular ranging between 20 to 60,\n",
    "# have a considerable cluster of similar wind speeds."
   ]
  },
  {
   "cell_type": "markdown",
   "metadata": {},
   "source": [
    "## Linear Regression"
   ]
  },
  {
   "cell_type": "markdown",
   "metadata": {},
   "source": [
    "####  Northern Hemisphere - Temperature vs. Latitude Linear Regression"
   ]
  },
  {
   "cell_type": "code",
   "execution_count": 23,
   "metadata": {},
   "outputs": [
    {
     "name": "stdout",
     "output_type": "stream",
     "text": [
      "The r-value is: -0.876505876121643\n"
     ]
    },
    {
     "data": {
      "image/png": "[encoded data removed]",
      "text/plain": [
       "<Figure size 432x288 with 1 Axes>"
      ]
     },
     "metadata": {
      "needs_background": "light"
     },
     "output_type": "display_data"
    },
    {
     "data": {
      "text/plain": [
       "<Figure size 1080x1080 with 0 Axes>"
      ]
     },
     "metadata": {},
     "output_type": "display_data"
    }
   ],
   "source": [
    "city_data_north = city_data.loc[(city_data['Latitude']>=0)]\n",
    "\n",
    "city_data_north\n",
    "\n",
    "x_values = city_data_north['Latitude']\n",
    "y_values = city_data_north['Temperature']\n",
    "(slope, intercept, rvalue, pvalue, stderr) = linregress(x_values, y_values)\n",
    "regress_values = x_values * slope + intercept\n",
    "line_eq = \"y = \" + str(round(slope,2)) + \"x + \" + str(round(intercept,2))\n",
    "plt.scatter(x_values,y_values)\n",
    "plt.plot(x_values,regress_values,\"r-\")\n",
    "plt.annotate(line_eq,(6,10),fontsize=15,color=\"red\")\n",
    "plt.xlabel('Latitude')\n",
    "plt.ylabel('Temperature')\n",
    "print(f\"The r-value is: {rvalue}\")\n",
    "\n",
    "plt.savefig('north_temp_lat_linregress.png')\n",
    "plt.figure(figsize=(15,15))\n",
    "\n",
    "plt.show()"
   ]
  },
  {
   "cell_type": "code",
   "execution_count": null,
   "metadata": {},
   "outputs": [],
   "source": [
    "# This regression plot attempts to address a relationship between temperature and Northern Hemisphere latitude coordinates. \n",
    "# Clearly, their is a regression where the lower latitudes display higher temperatures, but the higher you go\n",
    "# latitude numbers, the lower the temperature becomes."
   ]
  },
  {
   "cell_type": "markdown",
   "metadata": {},
   "source": [
    "####  Southern Hemisphere - Temperature vs. Latitude Linear Regression"
   ]
  },
  {
   "cell_type": "code",
   "execution_count": 24,
   "metadata": {},
   "outputs": [
    {
     "name": "stdout",
     "output_type": "stream",
     "text": [
      "The r-value is: 0.762027936980694\n"
     ]
    },
    {
     "data": {
      "image/png": "[encoded data removed]",
      "text/plain": [
       "<Figure size 432x288 with 1 Axes>"
      ]
     },
     "metadata": {
      "needs_background": "light"
     },
     "output_type": "display_data"
    },
    {
     "data": {
      "text/plain": [
       "<Figure size 1080x1080 with 0 Axes>"
      ]
     },
     "metadata": {},
     "output_type": "display_data"
    }
   ],
   "source": [
    "city_data_south = city_data.loc[(city_data['Latitude']<=0)]\n",
    "\n",
    "city_data_south\n",
    "\n",
    "x_values = city_data_south['Latitude']\n",
    "y_values = city_data_south['Temperature']\n",
    "(slope, intercept, rvalue, pvalue, stderr) = linregress(x_values, y_values)\n",
    "regress_values = x_values * slope + intercept\n",
    "line_eq = \"y = \" + str(round(slope,2)) + \"x + \" + str(round(intercept,2))\n",
    "plt.scatter(x_values,y_values)\n",
    "plt.plot(x_values,regress_values,\"r-\")\n",
    "plt.annotate(line_eq,(-25,50),fontsize=15,color=\"red\")\n",
    "plt.xlabel('Latitude')\n",
    "plt.ylabel('Temperature')\n",
    "print(f\"The r-value is: {rvalue}\")\n",
    "\n",
    "plt.savefig('south_temp_lat_linregress.png')\n",
    "plt.figure(figsize=(15,15))\n",
    "\n",
    "plt.show()"
   ]
  },
  {
   "cell_type": "code",
   "execution_count": null,
   "metadata": {},
   "outputs": [],
   "source": [
    "# This regression plot attempts to address a relationship between temperature and Southern Hemisphere latitude coordinates. \n",
    "# This plot displays an inverse regression compared to the previous example with the North Hemisphere,\n",
    "# where the higher the latitude coordinates, the higher the temperature."
   ]
  },
  {
   "cell_type": "markdown",
   "metadata": {},
   "source": [
    "####  Northern Hemisphere - Humidity (%) vs. Latitude Linear Regression"
   ]
  },
  {
   "cell_type": "code",
   "execution_count": 25,
   "metadata": {},
   "outputs": [
    {
     "name": "stdout",
     "output_type": "stream",
     "text": [
      "The r-value is: -0.876505876121643\n"
     ]
    },
    {
     "data": {
      "image/png": "[encoded data removed]",
      "text/plain": [
       "<Figure size 432x288 with 1 Axes>"
      ]
     },
     "metadata": {
      "needs_background": "light"
     },
     "output_type": "display_data"
    },
    {
     "data": {
      "text/plain": [
       "<Figure size 1080x1080 with 0 Axes>"
      ]
     },
     "metadata": {},
     "output_type": "display_data"
    }
   ],
   "source": [
    "city_data_north = city_data.loc[(city_data['Latitude']>=0)]\n",
    "\n",
    "city_data_north\n",
    "\n",
    "x_values = city_data_north['Latitude']\n",
    "y_values = city_data_north['Temperature']\n",
    "(slope, intercept, rvalue, pvalue, stderr) = linregress(x_values, y_values)\n",
    "regress_values = x_values * slope + intercept\n",
    "line_eq = \"y = \" + str(round(slope,2)) + \"x + \" + str(round(intercept,2))\n",
    "plt.scatter(x_values,y_values)\n",
    "plt.plot(x_values,regress_values,\"r-\")\n",
    "plt.annotate(line_eq,(6,10),fontsize=15,color=\"red\")\n",
    "plt.xlabel('Latitude')\n",
    "plt.ylabel('Humidity (%)')\n",
    "print(f\"The r-value is: {rvalue}\")\n",
    "\n",
    "plt.savefig('north_humidity_lat_linregress.png')\n",
    "plt.figure(figsize=(15,15))\n",
    "\n",
    "plt.show()"
   ]
  },
  {
   "cell_type": "code",
   "execution_count": null,
   "metadata": {},
   "outputs": [],
   "source": [
    "# This regression plot attempts to address a relationship between humidity and Northern Hemisphere latitude coordinates. \n",
    "# This plot displays a clear regression where the increase in latitude leads to lower levels of humidity percentage."
   ]
  },
  {
   "cell_type": "markdown",
   "metadata": {},
   "source": [
    "####  Southern Hemisphere - Humidity (%) vs. Latitude Linear Regression"
   ]
  },
  {
   "cell_type": "code",
   "execution_count": 26,
   "metadata": {},
   "outputs": [
    {
     "name": "stdout",
     "output_type": "stream",
     "text": [
      "The r-value is: -0.10217829513250994\n"
     ]
    },
    {
     "data": {
      "image/png": "[encoded data removed]",
      "text/plain": [
       "<Figure size 432x288 with 1 Axes>"
      ]
     },
     "metadata": {
      "needs_background": "light"
     },
     "output_type": "display_data"
    },
    {
     "data": {
      "text/plain": [
       "<Figure size 1080x1080 with 0 Axes>"
      ]
     },
     "metadata": {},
     "output_type": "display_data"
    }
   ],
   "source": [
    "city_data_south = city_data.loc[(city_data['Latitude']<=0)]\n",
    "\n",
    "city_data_south\n",
    "\n",
    "x_values = city_data_south['Latitude']\n",
    "y_values = city_data_south['Humidity']\n",
    "(slope, intercept, rvalue, pvalue, stderr) = linregress(x_values, y_values)\n",
    "regress_values = x_values * slope + intercept\n",
    "line_eq = \"y = \" + str(round(slope,2)) + \"x + \" + str(round(intercept,2))\n",
    "plt.scatter(x_values,y_values)\n",
    "plt.plot(x_values,regress_values,\"r-\")\n",
    "plt.annotate(line_eq,(-40,48),fontsize=15,color=\"red\")\n",
    "plt.xlabel('Latitude')\n",
    "plt.ylabel('Humidity (%)')\n",
    "print(f\"The r-value is: {rvalue}\")\n",
    "\n",
    "plt.savefig('south_humidity_lat_linregress.png')\n",
    "plt.figure(figsize=(15,15))\n",
    "\n",
    "plt.show()"
   ]
  },
  {
   "cell_type": "code",
   "execution_count": null,
   "metadata": {},
   "outputs": [],
   "source": [
    "# This regression plot attempts to address a relationship between humidity and Southern Hemisphere latitude coordinates. \n",
    "# This plot is different in that it lacks a clear trend in the data because the regression path doesn't have a strong downwards lean."
   ]
  },
  {
   "cell_type": "markdown",
   "metadata": {},
   "source": [
    "####  Northern Hemisphere - Cloudiness (%) vs. Latitude Linear Regression"
   ]
  },
  {
   "cell_type": "code",
   "execution_count": 27,
   "metadata": {},
   "outputs": [
    {
     "name": "stdout",
     "output_type": "stream",
     "text": [
      "The r-value is: 0.1578193600466272\n"
     ]
    },
    {
     "data": {
      "image/png": "[encoded data removed]",
      "text/plain": [
       "<Figure size 432x288 with 1 Axes>"
      ]
     },
     "metadata": {
      "needs_background": "light"
     },
     "output_type": "display_data"
    },
    {
     "data": {
      "text/plain": [
       "<Figure size 1080x1080 with 0 Axes>"
      ]
     },
     "metadata": {},
     "output_type": "display_data"
    }
   ],
   "source": [
    "city_data_north = city_data.loc[(city_data['Latitude']>=0)]\n",
    "\n",
    "city_data_north\n",
    "\n",
    "x_values = city_data_north['Cloudiness']\n",
    "y_values = city_data_north['Latitude']\n",
    "(slope, intercept, rvalue, pvalue, stderr) = linregress(x_values, y_values)\n",
    "regress_values = x_values * slope + intercept\n",
    "line_eq = \"y = \" + str(round(slope,2)) + \"x + \" + str(round(intercept,2))\n",
    "plt.scatter(x_values,y_values)\n",
    "plt.plot(x_values,regress_values,\"r-\")\n",
    "plt.annotate(line_eq,(25,75),fontsize=15,color=\"red\")\n",
    "plt.xlabel('Latitude')\n",
    "plt.ylabel('Cloudiness')\n",
    "print(f\"The r-value is: {rvalue}\")\n",
    "\n",
    "plt.savefig('north_cloudiness_lat_linregress.png')\n",
    "plt.figure(figsize=(15,15))\n",
    "\n",
    "plt.show()"
   ]
  },
  {
   "cell_type": "code",
   "execution_count": null,
   "metadata": {},
   "outputs": [],
   "source": [
    "# This regression plot attempts to address a relationship between cloudiness and Northern Hemisphere latitude coordinates. \n",
    "# This plot shows that the lowest coordinates are clustered in middle levels of cloudiness while the highest coordinates\n",
    "# have a wide range in cloudiness from around 0 to nearly 80. Due to these observations, there's a lack of a strong\n",
    "# regression in the data due to unstable levels of cloudiness from the location coordinates."
   ]
  },
  {
   "cell_type": "markdown",
   "metadata": {},
   "source": [
    "####  Southern Hemisphere - Cloudiness (%) vs. Latitude Linear Regression"
   ]
  },
  {
   "cell_type": "code",
   "execution_count": 28,
   "metadata": {},
   "outputs": [
    {
     "name": "stdout",
     "output_type": "stream",
     "text": [
      "The r-value is: -0.006782682320372914\n"
     ]
    },
    {
     "data": {
      "image/png": "[encoded data removed]",
      "text/plain": [
       "<Figure size 432x288 with 1 Axes>"
      ]
     },
     "metadata": {
      "needs_background": "light"
     },
     "output_type": "display_data"
    },
    {
     "data": {
      "text/plain": [
       "<Figure size 1080x1080 with 0 Axes>"
      ]
     },
     "metadata": {},
     "output_type": "display_data"
    }
   ],
   "source": [
    "city_data_south = city_data.loc[(city_data['Latitude']<=0)]\n",
    "\n",
    "city_data_south\n",
    "\n",
    "x_values = city_data_south['Latitude']\n",
    "y_values = city_data_south['Cloudiness']\n",
    "(slope, intercept, rvalue, pvalue, stderr) = linregress(x_values, y_values)\n",
    "regress_values = x_values * slope + intercept\n",
    "line_eq = \"y = \" + str(round(slope,2)) + \"x + \" + str(round(intercept,2))\n",
    "plt.scatter(x_values,y_values)\n",
    "plt.plot(x_values,regress_values,\"r-\")\n",
    "plt.annotate(line_eq,(-55,25),fontsize=15,color=\"red\")\n",
    "plt.xlabel('Latitude')\n",
    "plt.ylabel('Cloudiness')\n",
    "print(f\"The r-value is: {rvalue}\")\n",
    "\n",
    "plt.savefig('south_cloudiness_lat_linregress.png')\n",
    "plt.figure(figsize=(15,15))\n",
    "\n",
    "plt.show()"
   ]
  },
  {
   "cell_type": "code",
   "execution_count": null,
   "metadata": {},
   "outputs": [],
   "source": [
    "# This regression plot attempts to address a relationship between cloudiness and Southern Hemisphere latitude coordinates. \n",
    "# This plot shows that despite a negative r-value, there isn't a strong correlation in drop off of the data. There's a greater\n",
    "# likelihood of higher cloudiness as the latitude gets closer to 0, but with the minimum latitude having a cloudiness of 40\n",
    "# to begin the dataset, it doesn't upon up a strong line of overall comparison for the start and end of the y points."
   ]
  },
  {
   "cell_type": "markdown",
   "metadata": {},
   "source": [
    "####  Northern Hemisphere - Wind Speed (mph) vs. Latitude Linear Regression"
   ]
  },
  {
   "cell_type": "code",
   "execution_count": 29,
   "metadata": {},
   "outputs": [
    {
     "name": "stdout",
     "output_type": "stream",
     "text": [
      "The r-value is: 0.17079008352300687\n"
     ]
    },
    {
     "data": {
      "image/png": "[encoded data removed]",
      "text/plain": [
       "<Figure size 432x288 with 1 Axes>"
      ]
     },
     "metadata": {
      "needs_background": "light"
     },
     "output_type": "display_data"
    },
    {
     "data": {
      "text/plain": [
       "<Figure size 1080x1080 with 0 Axes>"
      ]
     },
     "metadata": {},
     "output_type": "display_data"
    }
   ],
   "source": [
    "city_data_north = city_data.loc[(city_data['Latitude']>=0)]\n",
    "\n",
    "city_data_north\n",
    "\n",
    "x_values = city_data_north['Latitude']\n",
    "y_values = city_data_north['Wind Speed']\n",
    "(slope, intercept, rvalue, pvalue, stderr) = linregress(x_values, y_values)\n",
    "regress_values = x_values * slope + intercept\n",
    "line_eq = \"y = \" + str(round(slope,2)) + \"x + \" + str(round(intercept,2))\n",
    "plt.scatter(x_values,y_values)\n",
    "plt.plot(x_values,regress_values,\"r-\")\n",
    "plt.annotate(line_eq,(40,27),fontsize=15,color=\"red\")\n",
    "plt.xlabel('Latitude')\n",
    "plt.ylabel('Wind Speed (mph)')\n",
    "print(f\"The r-value is: {rvalue}\")\n",
    "\n",
    "plt.savefig('north_wind_lat_linregress.png')\n",
    "plt.figure(figsize=(15,15))\n",
    "\n",
    "plt.show()"
   ]
  },
  {
   "cell_type": "code",
   "execution_count": null,
   "metadata": {},
   "outputs": [],
   "source": [
    "# This regression plot attempts to address a relationship between windiness and Northern Hemisphere latitude coordinates. \n",
    "# This plot shows that there is a positive increase in wind speed from the beginning of y points to the end near that\n",
    "# at the 80 degree latitude x-point. In addition, the greatest outliers exist between the 60 to 75 degree latitude range."
   ]
  },
  {
   "cell_type": "markdown",
   "metadata": {},
   "source": [
    "####  Southern Hemisphere - Wind Speed (mph) vs. Latitude Linear Regression"
   ]
  },
  {
   "cell_type": "code",
   "execution_count": 30,
   "metadata": {},
   "outputs": [
    {
     "name": "stdout",
     "output_type": "stream",
     "text": [
      "The r-value is: 0.17079008352300687\n"
     ]
    },
    {
     "data": {
      "image/png": "[encoded data removed]",
      "text/plain": [
       "<Figure size 432x288 with 1 Axes>"
      ]
     },
     "metadata": {
      "needs_background": "light"
     },
     "output_type": "display_data"
    },
    {
     "data": {
      "text/plain": [
       "<Figure size 1080x1080 with 0 Axes>"
      ]
     },
     "metadata": {},
     "output_type": "display_data"
    }
   ],
   "source": [
    "city_data_south = city_data.loc[(city_data['Latitude']>=0)]\n",
    "\n",
    "city_data_south\n",
    "\n",
    "x_values = city_data_south['Latitude']\n",
    "y_values = city_data_south['Wind Speed']\n",
    "(slope, intercept, rvalue, pvalue, stderr) = linregress(x_values, y_values)\n",
    "regress_values = x_values * slope + intercept\n",
    "line_eq = \"y = \" + str(round(slope,2)) + \"x + \" + str(round(intercept,2))\n",
    "plt.scatter(x_values,y_values)\n",
    "plt.plot(x_values,regress_values,\"r-\")\n",
    "plt.annotate(line_eq,(25,19),fontsize=15,color=\"red\")\n",
    "plt.xlabel('Latitude')\n",
    "plt.ylabel('Wind Speed (mph)')\n",
    "print(f\"The r-value is: {rvalue}\")\n",
    "\n",
    "plt.savefig('south_wind_lat_linregress.png')\n",
    "plt.figure(figsize=(15,15))\n",
    "\n",
    "plt.show()"
   ]
  },
  {
   "cell_type": "code",
   "execution_count": null,
   "metadata": {},
   "outputs": [],
   "source": [
    "# DATA OBSERVATIONS\n",
    "\n",
    "# 1. The highest temperatures in the data came from latitude coordinates closest to 0 degrees.\n",
    "\n",
    "# 2. Northern Hemisphere latitude locations have a lot more locations with maximum cloudiness.\n",
    "\n",
    "# 3. The outliers for the lowest levels of humidity are located on both the -20 and 20 degree latitude coordinates."
   ]
  }
 ],
 "metadata": {
  "anaconda-cloud": {},
  "kernel_info": {
   "name": "python3"
  },
  "kernelspec": {
   "display_name": "Python 3",
   "language": "python",
   "name": "python3"
  },
  "language_info": {
   "codemirror_mode": {
    "name": "ipython",
    "version": 3
   },
   "file_extension": ".py",
   "mimetype": "text/x-python",
   "name": "python",
   "nbconvert_exporter": "python",
   "pygments_lexer": "ipython3",
   "version": "3.7.10"
  },
  "latex_envs": {
   "LaTeX_envs_menu_present": true,
   "autoclose": false,
   "autocomplete": true,
   "bibliofile": "biblio.bib",
   "cite_by": "apalike",
   "current_citInitial": 1,
   "eqLabelWithNumbers": true,
   "eqNumInitial": 1,
   "hotkeys": {
    "equation": "Ctrl-E",
    "itemize": "Ctrl-I"
   },
   "labels_anchors": false,
   "latex_user_defs": false,
   "report_style_numbering": false,
   "user_envs_cfg": false
  },
  "nteract": {
   "version": "0.12.3"
  }
 },
 "nbformat": 4,
 "nbformat_minor": 2
}
